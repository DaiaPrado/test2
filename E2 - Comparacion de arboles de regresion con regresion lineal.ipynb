{
 "cells": [
  {
   "cell_type": "markdown",
   "id": "03d8f24b-fc61-4541-9b06-97d3a0e4dda4",
   "metadata": {},
   "source": [
    "# Árboles de decisión: Comparación de árboles de regresión con regresión lineal"
   ]
  },
  {
   "cell_type": "code",
   "execution_count": 1,
   "id": "8f190034-8a28-46e5-92b6-bd1371edc2f3",
   "metadata": {},
   "outputs": [],
   "source": [
    "import numpy as np\n",
    "from matplotlib import pyplot as plt\n",
    "from sklearn.tree import DecisionTreeRegressor\n",
    "from sklearn.datasets import make_regression\n",
    "from sklearn.utils import shuffle\n",
    "from sklearn import preprocessing\n",
    "from sklearn.model_selection import train_test_split\n",
    "from sklearn.metrics import mean_squared_error, r2_score\n",
    "from sklearn.model_selection import KFold, GridSearchCV\n",
    "from sklearn.linear_model import Lasso"
   ]
  },
  {
   "cell_type": "markdown",
   "id": "98f81907-34c4-44f9-bb96-c1c8852f0dd2",
   "metadata": {},
   "source": [
    "### Generar un dataset sintético"
   ]
  },
  {
   "cell_type": "code",
   "execution_count": 2,
   "id": "0a9be355-46da-4c8a-9366-dcc0bb95c052",
   "metadata": {},
   "outputs": [],
   "source": [
    "X, Y, theta = make_regression(n_samples=1000, n_features=19, n_targets=1, bias=1, noise=0.5, shuffle=True, coef=True, random_state=42)"
   ]
  },
  {
   "cell_type": "markdown",
   "id": "5041ca40-a954-4270-bbd2-b3f3b775d885",
   "metadata": {},
   "source": [
    "### Preprocesar los datos"
   ]
  },
  {
   "cell_type": "code",
   "execution_count": 3,
   "id": "456df98a-6eb9-4f7b-9481-40953a9b4997",
   "metadata": {},
   "outputs": [],
   "source": [
    "# TODO: Reordena los datos aleatoriamente\n",
    "X_reord, Y_reord = shuffle(X,Y,random_state=42)\n",
    "\n",
    "# TODO: Normaliza los ejemplos\n",
    "scaler = preprocessing.StandardScaler().fit(X_reord)\n",
    "X_escalada = scaler.transform(X_reord)\n",
    "\n",
    "# TODO: Divide el dataset en subset de entrenamiento y test\n",
    "X_train, X_test, Y_train, Y_test = train_test_split(X_escalada,Y_reord,train_size = 0.8, test_size = 0.2, random_state=42)"
   ]
  },
  {
   "cell_type": "markdown",
   "id": "48db505d-f92d-46eb-9ddc-7fa90d425b67",
   "metadata": {},
   "source": [
    "### Optimizar los modelos por validación cruzada"
   ]
  },
  {
   "cell_type": "code",
   "execution_count": 4,
   "id": "678ec7f2-18bc-44dd-a710-820865c7b65a",
   "metadata": {},
   "outputs": [
    {
     "name": "stdout",
     "output_type": "stream",
     "text": [
      "Profundidades máx. a considerar:\n",
      "[1, 2, 3, 4, 5, 6, 7]\n",
      "[1.50646998e-04 9.63140430e-04 1.76442713e-04 7.84959604e-04\n",
      " 8.16612354e-04 1.12188573e-05 3.78729719e-04 7.81557043e-04]\n",
      "Profundidad máx. usada: 1\n",
      "Profundidad máx. usada: 2\n",
      "Profundidad máx. del mejor modelo de lasso hasta ahora: 2\n",
      "Profundidad máx. del mejor modelo de árbol hasta ahora: 2\n",
      "Profundidad máx. usada: 3\n",
      "Profundidad máx. del mejor modelo de lasso hasta ahora: 2\n",
      "Profundidad máx. del mejor modelo de árbol hasta ahora: 3\n",
      "Profundidad máx. usada: 4\n",
      "Profundidad máx. del mejor modelo de lasso hasta ahora: 2\n",
      "Profundidad máx. del mejor modelo de árbol hasta ahora: 4\n",
      "Profundidad máx. usada: 5\n",
      "Profundidad máx. del mejor modelo de lasso hasta ahora: 2\n",
      "Profundidad máx. del mejor modelo de árbol hasta ahora: 5\n",
      "Profundidad máx. usada: 6\n",
      "Profundidad máx. del mejor modelo de lasso hasta ahora: 2\n",
      "Profundidad máx. del mejor modelo de árbol hasta ahora: 5\n",
      "Profundidad máx. usada: 7\n",
      "Profundidad máx. del mejor modelo de lasso hasta ahora: 2\n",
      "Profundidad máx. del mejor modelo de árbol hasta ahora: 5\n"
     ]
    }
   ],
   "source": [
    "# TODO: Entrena un modelo diferente para cada valor de *max_depth* considerado sobre un fold diferente\n",
    "\n",
    "# Valores de max_depth a considerar\n",
    "max_depths = list(range(1,8))\n",
    "print('Profundidades máx. a considerar:')\n",
    "print(max_depths)\n",
    "\n",
    "alphas = np.random.random(8)\n",
    "val_min=0\n",
    "val_max=1e-3\n",
    "alphas = (alphas*(val_max-val_min)+val_min)\n",
    "print(alphas)\n",
    "\n",
    "# Crea x splits de K-fold, uno por cada valor de max_depth a considerar\n",
    "kf = KFold(n_splits=7)\n",
    "linear_models = []\n",
    "decision_tree_models = []\n",
    "lista_linear_scores = []\n",
    "lista_tree_scores = []\n",
    "best_model = None\n",
    "i=0\n",
    "\n",
    "for train, cv in kf.split(X): #KFOLDS\n",
    "    X_train1, X_test1 = X[train], X[cv]\n",
    "    Y_train1, Y_test1 = Y[train], Y[cv]\n",
    "    \n",
    "    #Modelo de lasso\n",
    "    linear_model = Lasso(alpha=alphas[i])\n",
    "    linear_model = linear_model.fit(X_train, Y_train)\n",
    "    linear_models.append(linear_model)\n",
    "    linear_y_pred = linear_model.predict(X_test)\n",
    "    linear_score = r2_score(Y_test,linear_y_pred)\n",
    "    lista_linear_scores.append(linear_score)\n",
    "    #print(linear_score)\n",
    "    \n",
    "    #Modelo de árbol\n",
    "    tree_model = DecisionTreeRegressor(max_depth=max_depths[i])\n",
    "    tree_model = tree_model.fit(X_train, Y_train)\n",
    "    decision_tree_models.append(tree_model)\n",
    "    tree_y_pred = tree_model.predict(X_test)\n",
    "    tree_score = r2_score(Y_test,tree_y_pred)\n",
    "    lista_tree_scores.append(tree_score)\n",
    "    #print(tree_score)\n",
    "    print('Profundidad máx. usada:', max_depths[i])\n",
    "    \n",
    "    # Si el modelo es mejor que el mejor modelo hasta ahora...\n",
    "    if i==0:\n",
    "        mejor_lasso = linear_model\n",
    "        mejor_tree = tree_model\n",
    "        best_depth_lasso = max_depths[i]\n",
    "        best_depth_tree = max_depths[i]\n",
    "        best_score_lasso = linear_score\n",
    "        best_score_tree = tree_score\n",
    "    elif i>0: \n",
    "        if linear_score > best_score_lasso: \n",
    "            mejor_lasso = linear_model\n",
    "            best_depth_lasso = max_depths[i]\n",
    "            best_score_lasso = linear_score\n",
    "        print('Profundidad máx. del mejor modelo de lasso hasta ahora:', best_depth_lasso)\n",
    "        if tree_score > best_score_tree: \n",
    "            mejor_tree = tree_model\n",
    "            best_depth_tree = max_depths[i]\n",
    "            best_score_tree = tree_score\n",
    "        print('Profundidad máx. del mejor modelo de árbol hasta ahora:', best_depth_tree)\n",
    "    i+=1"
   ]
  },
  {
   "cell_type": "markdown",
   "id": "4e11b965-23d1-4293-9ca5-8a4b34eac865",
   "metadata": {},
   "source": [
    "### Evaluar el modelo sobre el subset de test"
   ]
  },
  {
   "cell_type": "code",
   "execution_count": 5,
   "id": "5489c5d7-a14e-45d2-a03e-0b288600860a",
   "metadata": {},
   "outputs": [
    {
     "name": "stdout",
     "output_type": "stream",
     "text": [
      "Lasso\n",
      "Error cuadrático medio: %.2f 0.24312653709456203\n",
      "Coeficiente de determinación: %.2f 0.9999918574151807\n",
      "Árbol de decisión\n",
      "Error cuadrático medio: %.2f 18879.71704201391\n",
      "Coeficiente de determinación: %.2f 0.3676967589930985\n"
     ]
    }
   ],
   "source": [
    "# TODO: Evalúa el modelo con MSE y R^2 sobre el subset de test para mejor árbol y Lasso\n",
    "\n",
    "y_train_test_lasso = mejor_lasso.predict(X_test)\n",
    "mse = mean_squared_error(Y_test, y_train_test_lasso)\n",
    "r2s = r2_score(Y_test, y_train_test_lasso)\n",
    "print(\"Lasso\")\n",
    "print('Error cuadrático medio: %.2f', mse)\n",
    "print('Coeficiente de determinación: %.2f', r2s)\n",
    "\n",
    "y_train_test_tree = mejor_tree.predict(X_test)\n",
    "mse = mean_squared_error(Y_test, y_train_test_tree)\n",
    "r2s = r2_score(Y_test,y_train_test_tree)\n",
    "print(\"Árbol de decisión\")\n",
    "print('Error cuadrático medio: %.2f', mse)\n",
    "print('Coeficiente de determinación: %.2f', r2s)"
   ]
  },
  {
   "cell_type": "code",
   "execution_count": 6,
   "id": "b6a94766-65f5-4682-bf2c-0c033c7f2459",
   "metadata": {},
   "outputs": [
    {
     "data": {
      "image/png": "[encoded data removed]",
      "text/plain": [
       "<Figure size 432x288 with 1 Axes>"
      ]
     },
     "metadata": {
      "needs_background": "light"
     },
     "output_type": "display_data"
    }
   ],
   "source": [
    "# TODO: Representa gráficamente los residuos de ambos modelos\n",
    "\n",
    "residuos_tree = y_train_test_tree - Y_test\n",
    "residuos_lasso = y_train_test_lasso - Y_test\n",
    "\n",
    "plt.figure(3)\n",
    "\n",
    "plt.title(\"Regresión lineal vs. árbol de decisión\")\n",
    "plt.xlabel(\"Data\")\n",
    "plt.ylabel(\"Target\")\n",
    "\n",
    "# Representa en un gráfico de puntos el subset de test\n",
    "plt.scatter(X_test[:,0],Y_test, label=\"Subset test\", color=\"deepskyblue\")\n",
    "\n",
    "plt.plot(residuos_tree[:5], label=\"Residuos Tree\", color=\"yellowgreen\")\n",
    "plt.plot(residuos_lasso[:5], label = \"Residuos Lasso\", color =\"mediumvioletred\")\n",
    "\n",
    "legend = plt.legend(loc='upper center', shadow = True, fontsize = 'medium', bbox_to_anchor=(1,0.5))\n",
    "\n",
    "plt.show()"
   ]
  },
  {
   "cell_type": "markdown",
   "id": "a4b22d03-3ef8-4d19-8db1-993ec83d4aec",
   "metadata": {},
   "source": [
    "¿Hay diferencias significativas entre ambos modelos? ¿Qué ocurre si variamos el error o el nº de características del dataset original, cómo responden ambos tipos de modelos?\n",
    "\n",
    "En el modelo de lasso, el error cuadrático medio y su coeficiente de determinación tienden a disminuir cuando tenemos más características. \n",
    "\n",
    "En cuanto al modelo de árbol de decisión tanto su coeficiente de determinación tiende a aumentar mientras que su coeficiente de determinación tiende a disminuir cuando hay más características."
   ]
  },
  {
   "cell_type": "markdown",
   "id": "deb1d954-0739-41eb-ad6b-2896b33c3c55",
   "metadata": {},
   "source": [
    "### Bonus: Optimización de todos los hiper-parámetros del árbol de decisión"
   ]
  },
  {
   "cell_type": "code",
   "execution_count": 34,
   "id": "e72f8e65-ba9e-4966-bda7-f5e4263fcf2f",
   "metadata": {},
   "outputs": [
    {
     "name": "stdout",
     "output_type": "stream",
     "text": [
      "Fitting 7 folds for each of 14 candidates, totalling 98 fits\n",
      "{'max_depth': 5, 'splitter': 'best'}\n"
     ]
    }
   ],
   "source": [
    "kf = KFold(shuffle=True, n_splits=7, random_state=0)\n",
    "model = DecisionTreeRegressor()\n",
    "params = {\"splitter\":[\"best\",\"random\"], \n",
    "          \"max_depth\" : [3,5,7,9,11,12,14],\n",
    "         }\n",
    "\n",
    "grid = GridSearchCV(model,param_grid = params, \n",
    "                   scoring=['r2', 'neg_mean_squared_error'],\n",
    "                   refit='neg_mean_squared_error',\n",
    "                    verbose=1, cv = kf)\n",
    "\n",
    "grid=grid.fit(X_train,Y_train)\n",
    "\n",
    "#Escogemos el mejor modelo\n",
    "best_model = grid.best_params_\n",
    "#print(grid.get_params().keys())\n",
    "\n",
    "print(best_model)"
   ]
  },
  {
   "cell_type": "code",
   "execution_count": null,
   "id": "224b6655-d3ec-407b-86a5-421a0bc0ec76",
   "metadata": {},
   "outputs": [],
   "source": [
    " "
   ]
  }
 ],
 "metadata": {
  "kernelspec": {
   "display_name": "Python 3 (ipykernel)",
   "language": "python",
   "name": "python3"
  },
  "language_info": {
   "codemirror_mode": {
    "name": "ipython",
    "version": 3
   },
   "file_extension": ".py",
   "mimetype": "text/x-python",
   "name": "python",
   "nbconvert_exporter": "python",
   "pygments_lexer": "ipython3",
   "version": "3.9.7"
  }
 },
 "nbformat": 4,
 "nbformat_minor": 5
}
