{
 "cells": [
  {
   "cell_type": "markdown",
   "id": "2ce4e190-c031-41be-a313-f623d80613a9",
   "metadata": {},
   "source": [
    "# Árboles de decisión: Scikit-learn"
   ]
  },
  {
   "cell_type": "code",
   "execution_count": 4,
   "id": "74e6dddb-5171-49f1-8089-42bebdd68a99",
   "metadata": {},
   "outputs": [],
   "source": [
    "import numpy as np\n",
    "from matplotlib import pyplot as plt\n",
    "from sklearn.tree import DecisionTreeRegressor\n",
    "from sklearn.datasets import make_regression"
   ]
  },
  {
   "cell_type": "markdown",
   "id": "34fd7fd5-d2b1-41c7-bbae-5ecc050f6aea",
   "metadata": {},
   "source": [
    "### Generar un dataset sintético"
   ]
  },
  {
   "cell_type": "code",
   "execution_count": 9,
   "id": "05ae0714-b990-4ada-8270-11d143a23a29",
   "metadata": {},
   "outputs": [],
   "source": [
    "X, Y, theta = make_regression(n_samples=1000, n_features=3, n_targets=1, bias=1, noise=0.5, shuffle=True, coef=True, random_state=42)\n"
   ]
  },
  {
   "cell_type": "code",
   "execution_count": 10,
   "id": "3828910c-8ec2-4a01-ac3d-b81d365d09ec",
   "metadata": {},
   "outputs": [
    {
     "data": {
      "text/plain": [
       "'\\nplt.figure(1)\\n\\nplt.title(\"Dataset\")\\nplt.xlabel(\"X\")\\nplt.ylabel(\"Y\")\\n\\nplt.scatter(X,Y)\\n\\nplt.show()'"
      ]
     },
     "execution_count": 10,
     "metadata": {},
     "output_type": "execute_result"
    }
   ],
   "source": [
    "# TODO: Representa gráficamente el dataset para asegurarte que el término de error es suficientemente alto\n",
    "\"\"\"\n",
    "plt.figure(1)\n",
    "\n",
    "plt.title(\"Dataset\")\n",
    "plt.xlabel(\"X\")\n",
    "plt.ylabel(\"Y\")\n",
    "\n",
    "plt.scatter(X,Y)\n",
    "\n",
    "plt.show()\"\"\""
   ]
  },
  {
   "cell_type": "markdown",
   "id": "faaf4b03-9397-4003-ad89-2bcf8f038bf7",
   "metadata": {},
   "source": [
    "### Preprocesar los datos"
   ]
  },
  {
   "cell_type": "code",
   "execution_count": null,
   "id": "ec7676cc-02c0-4586-a5df-cc1a4197d5c4",
   "metadata": {},
   "outputs": [],
   "source": [
    "# TODO: Reordena los datos aleatoriamente\n",
    "X_reord, Y_reord = shuffle(X,Y,random_state=42)\n",
    "\n",
    "#Nota: Este escalado es equivalente al normalizado básico que hemos visto durante el curso.\n",
    "#Otra normalización más conveniente en modelos más avanzados pero más compleja de entender sería la implementada en sklearn.preprocessing.normalize.\n",
    "\n",
    "X_train, X_test, Y_train, Y_test = train_test_split(X_escalada,Y_reord,train_size = 0.8, test_size = 0.2, random_state=42)\n",
    "# TODO: Normaliza los ejemplos\n",
    "scaler = preprocessing.StandardScaler().fit(X_reord)\n",
    "X_escalada = scaler.transform(X_reord)\n",
    "\n",
    "# TODO: Divide el dataset en subset de entrenamiento y test"
   ]
  }
 ],
 "metadata": {
  "kernelspec": {
   "display_name": "Python 3 (ipykernel)",
   "language": "python",
   "name": "python3"
  },
  "language_info": {
   "codemirror_mode": {
    "name": "ipython",
    "version": 3
   },
   "file_extension": ".py",
   "mimetype": "text/x-python",
   "name": "python",
   "nbconvert_exporter": "python",
   "pygments_lexer": "ipython3",
   "version": "3.9.7"
  }
 },
 "nbformat": 4,
 "nbformat_minor": 5
}
